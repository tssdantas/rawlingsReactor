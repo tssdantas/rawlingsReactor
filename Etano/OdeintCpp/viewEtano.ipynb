{
 "cells": [
  {
   "cell_type": "code",
   "execution_count": 1,
   "metadata": {},
   "outputs": [],
   "source": [
    "import numpy as np\n",
    "import matplotlib.pyplot as plt"
   ]
  },
  {
   "cell_type": "code",
   "execution_count": 2,
   "metadata": {},
   "outputs": [],
   "source": [
    "data = []\n",
    "with open('output_stiff_etano.csv','r') as f:\n",
    "    #lines = f.readlines()\n",
    "    while line := f.readline():\n",
    "        currentline = line.rstrip().split(\",\")\n",
    "        data.append(currentline[:9])\n"
   ]
  },
  {
   "cell_type": "code",
   "execution_count": 4,
   "metadata": {},
   "outputs": [
    {
     "ename": "ValueError",
     "evalue": "could not convert string to float: ''",
     "output_type": "error",
     "traceback": [
      "\u001b[1;31m---------------------------------------------------------------------------\u001b[0m",
      "\u001b[1;31mValueError\u001b[0m                                Traceback (most recent call last)",
      "Cell \u001b[1;32mIn[4], line 2\u001b[0m\n\u001b[0;32m      1\u001b[0m \u001b[38;5;66;03m# Converter strings para float\u001b[39;00m\n\u001b[1;32m----> 2\u001b[0m data \u001b[38;5;241m=\u001b[39m \u001b[43mnp\u001b[49m\u001b[38;5;241;43m.\u001b[39;49m\u001b[43marray\u001b[49m\u001b[43m(\u001b[49m\u001b[43mdata\u001b[49m\u001b[43m,\u001b[49m\u001b[43m \u001b[49m\u001b[43mdtype\u001b[49m\u001b[38;5;241;43m=\u001b[39;49m\u001b[38;5;28;43mfloat\u001b[39;49m\u001b[43m)\u001b[49m\n\u001b[0;32m      4\u001b[0m \u001b[38;5;66;03m# Separar colunas\u001b[39;00m\n\u001b[0;32m      5\u001b[0m x \u001b[38;5;241m=\u001b[39m data[:, \u001b[38;5;241m0\u001b[39m]  \u001b[38;5;66;03m# Primeira coluna como eixo X\u001b[39;00m\n",
      "\u001b[1;31mValueError\u001b[0m: could not convert string to float: ''"
     ]
    }
   ],
   "source": [
    "# Converter strings para float\n",
    "data = np.array(data, dtype=float)\n",
    "\n",
    "# Separar colunas\n",
    "x = data[:, 0]  # Primeira coluna como eixo X\n",
    "ys = data[:, 1:]  # As demais colunas como eixos Y\n",
    "\n",
    "# Criar o gráfico\n",
    "plt.figure(figsize=(10, 6))\n",
    "\n",
    "for i in range(ys.shape[1]):  # Percorrer as colunas do Y\n",
    "    plt.plot(x, ys[:, i], label=f'Série {i+1}')\n",
    "\n",
    "# Personalizar o gráfico\n",
    "plt.xlabel(\"Eixo X\")\n",
    "plt.ylabel(\"Valores\")\n",
    "plt.title(\"Gráfico de Dados\")\n",
    "plt.legend()\n",
    "plt.grid(True)\n",
    "\n",
    "# Exibir\n",
    "plt.show()"
   ]
  }
 ],
 "metadata": {
  "kernelspec": {
   "display_name": "py310",
   "language": "python",
   "name": "python3"
  },
  "language_info": {
   "codemirror_mode": {
    "name": "ipython",
    "version": 3
   },
   "file_extension": ".py",
   "mimetype": "text/x-python",
   "name": "python",
   "nbconvert_exporter": "python",
   "pygments_lexer": "ipython3",
   "version": "3.10.14"
  }
 },
 "nbformat": 4,
 "nbformat_minor": 2
}
